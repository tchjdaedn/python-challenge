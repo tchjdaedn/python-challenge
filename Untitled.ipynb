{
 "cells": [
  {
   "cell_type": "code",
   "execution_count": 4,
   "metadata": {},
   "outputs": [
    {
     "name": "stdout",
     "output_type": "stream",
     "text": [
      "{1} {1}\n",
      "{2} {1}\n",
      "{3} {1}\n",
      "{4} {1}\n",
      "{5} {1}\n",
      "{6} {1}\n",
      "{7} {1}\n",
      "{8} {1}\n",
      "{9} {1}\n",
      "{10} {1}\n",
      "{11} {1}\n"
     ]
    }
   ],
   "source": [
    "for i in range(1,12):\n",
    "    print({i}, {i-(i-1)})"
   ]
  },
  {
   "cell_type": "code",
   "execution_count": 13,
   "metadata": {},
   "outputs": [
    {
     "name": "stdout",
     "output_type": "stream",
     "text": [
      "5.5\n"
     ]
    }
   ],
   "source": [
    "listvar = [1,2,3,4,5,6,7,8,9,10,11,12]\n",
    "j=0\n",
    "for i in listvar:\n",
    "    j+=i\n",
    "j = j/len(listvar)\n",
    "print(j)\n",
    "    \n",
    "    \n",
    "\n"
   ]
  },
  {
   "cell_type": "code",
   "execution_count": null,
   "metadata": {},
   "outputs": [],
   "source": []
  }
 ],
 "metadata": {
  "kernelspec": {
   "display_name": "Python 3",
   "language": "python",
   "name": "python3"
  },
  "language_info": {
   "codemirror_mode": {
    "name": "ipython",
    "version": 3
   },
   "file_extension": ".py",
   "mimetype": "text/x-python",
   "name": "python",
   "nbconvert_exporter": "python",
   "pygments_lexer": "ipython3",
   "version": "3.6.6"
  }
 },
 "nbformat": 4,
 "nbformat_minor": 2
}
